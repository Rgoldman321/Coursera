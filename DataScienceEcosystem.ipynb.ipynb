{
 "cells": [
  {
   "cell_type": "markdown",
   "id": "549e8851-7820-4628-8d96-7a735bda2230",
   "metadata": {
    "tags": []
   },
   "source": [
    "# Data Science Tools and Ecosystem\n"
   ]
  },
  {
   "cell_type": "markdown",
   "id": "28930098-4086-45ed-9a22-eddfddeb3d0a",
   "metadata": {},
   "source": [
    "## Author: Robert Goldman"
   ]
  },
  {
   "cell_type": "markdown",
   "id": "d7128598-21ab-4dc3-bb3d-c48766fdbda7",
   "metadata": {},
   "source": [
    "Objectives:\n",
    "1. Popular libraries\n",
    "2. Popular Languages\n",
    "3. Basic math in python"
   ]
  },
  {
   "cell_type": "markdown",
   "id": "d06e2ef3-2f2c-47ed-b7dc-40da2ab4e828",
   "metadata": {},
   "source": [
    "In this notebook, Data Science Tools and Ecosystem are summarized"
   ]
  },
  {
   "cell_type": "markdown",
   "id": "4af4cc4c-5f65-4905-9666-8ebbbaeec558",
   "metadata": {},
   "source": [
    "Some of the popular languages that Data Scientists use are:\n",
    "1. Python\n",
    "2. SQL\n",
    "3. R"
   ]
  },
  {
   "cell_type": "markdown",
   "id": "f94ef555-f6cb-4556-adf9-079759f89b26",
   "metadata": {},
   "source": [
    "Some of the popular libraries that Data Scientists use are:\n",
    "1. matplotlib\n",
    "2. sklearn\n",
    "3. pandas"
   ]
  },
  {
   "cell_type": "markdown",
   "id": "5ac20c46-9936-4355-9965-ec9c019ea3cf",
   "metadata": {},
   "source": [
    "Data Science Tools |\n",
    "-----|\n",
    "SQL|\n",
    "Apache Spark|\n",
    "Kylo |"
   ]
  },
  {
   "cell_type": "markdown",
   "id": "f9c15ceb-caf1-4e3e-9e90-2128dda0a29e",
   "metadata": {},
   "source": [
    "### Below are a few examples of evaluating arithmetic expressions in Python"
   ]
  },
  {
   "cell_type": "code",
   "execution_count": 9,
   "id": "89dd969e-7ac7-4be3-a0c3-effce8d6bef8",
   "metadata": {},
   "outputs": [
    {
     "data": {
      "text/plain": [
       "17"
      ]
     },
     "execution_count": 9,
     "metadata": {},
     "output_type": "execute_result"
    }
   ],
   "source": [
    "#This a simple arithmetic expression to mutiply then add integers\n",
    "(3*4)+5"
   ]
  },
  {
   "cell_type": "code",
   "execution_count": 11,
   "id": "f7b79c0e-f49e-473a-ac73-ca095044d47a",
   "metadata": {},
   "outputs": [
    {
     "data": {
      "text/plain": [
       "3.3333333333333335"
      ]
     },
     "execution_count": 11,
     "metadata": {},
     "output_type": "execute_result"
    }
   ],
   "source": [
    "#This will convert 200 minutes to hours by diving by 60\n",
    "minutes=200;\n",
    "hours = minutes/60\n",
    "hours"
   ]
  },
  {
   "cell_type": "code",
   "execution_count": null,
   "id": "fa28fc7b-1944-4259-af97-2acb828551ba",
   "metadata": {},
   "outputs": [],
   "source": []
  }
 ],
 "metadata": {
  "kernelspec": {
   "display_name": "Python 3 (ipykernel)",
   "language": "python",
   "name": "python3"
  },
  "language_info": {
   "codemirror_mode": {
    "name": "ipython",
    "version": 3
   },
   "file_extension": ".py",
   "mimetype": "text/x-python",
   "name": "python",
   "nbconvert_exporter": "python",
   "pygments_lexer": "ipython3",
   "version": "3.10.9"
  }
 },
 "nbformat": 4,
 "nbformat_minor": 5
}
